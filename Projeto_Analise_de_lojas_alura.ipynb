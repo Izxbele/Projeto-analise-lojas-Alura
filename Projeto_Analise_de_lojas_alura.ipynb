{
  "nbformat": 4,
  "nbformat_minor": 0,
  "metadata": {
    "colab": {
      "provenance": []
    },
    "kernelspec": {
      "name": "python3",
      "display_name": "Python 3"
    },
    "language_info": {
      "name": "python"
    }
  },
  "cells": [
    {
      "cell_type": "markdown",
      "source": [
        "### Importação dos dados\n",
        "\n"
      ],
      "metadata": {
        "id": "RhEdWd9YUR6H"
      }
    },
    {
      "cell_type": "code",
      "execution_count": 25,
      "metadata": {
        "colab": {
          "base_uri": "https://localhost:8080/",
          "height": 206
        },
        "id": "T3EvaeQ_INIL",
        "outputId": "c7de9fe2-e59a-4399-d09c-aefd6e1f2e8c"
      },
      "outputs": [
        {
          "output_type": "execute_result",
          "data": {
            "text/plain": [
              "                 Produto Categoria do Produto    Preço      Frete  \\\n",
              "0     Assistente virtual          eletronicos   219.08   9.249790   \n",
              "1         Mesa de jantar               moveis   256.35  11.234305   \n",
              "2      Jogo de tabuleiro           brinquedos   279.51  21.262681   \n",
              "3            Micro-ondas     eletrodomesticos  1009.99  54.667344   \n",
              "4  Cadeira de escritório               moveis   446.99  26.964689   \n",
              "\n",
              "  Data da Compra        Vendedor Local da compra  Avaliação da compra  \\\n",
              "0     16/01/2021     Pedro Gomes              SP                    4   \n",
              "1     18/05/2022  Beatriz Moraes              RJ                    1   \n",
              "2     15/03/2021      João Souza              DF                    1   \n",
              "3     03/05/2022      João Souza              RS                    4   \n",
              "4     07/11/2020   Larissa Alves              MG                    5   \n",
              "\n",
              "  Tipo de pagamento  Quantidade de parcelas    lat    lon  \n",
              "0    cartao_credito                       8 -22.19 -48.79  \n",
              "1    cartao_credito                       4 -22.25 -42.66  \n",
              "2    cartao_credito                       1 -15.83 -47.86  \n",
              "3            boleto                       1 -30.17 -53.50  \n",
              "4            boleto                       1 -18.10 -44.38  "
            ],
            "text/html": [
              "\n",
              "  <div id=\"df-b7f4415e-8769-46a8-b85a-ea86557d8a5f\" class=\"colab-df-container\">\n",
              "    <div>\n",
              "<style scoped>\n",
              "    .dataframe tbody tr th:only-of-type {\n",
              "        vertical-align: middle;\n",
              "    }\n",
              "\n",
              "    .dataframe tbody tr th {\n",
              "        vertical-align: top;\n",
              "    }\n",
              "\n",
              "    .dataframe thead th {\n",
              "        text-align: right;\n",
              "    }\n",
              "</style>\n",
              "<table border=\"1\" class=\"dataframe\">\n",
              "  <thead>\n",
              "    <tr style=\"text-align: right;\">\n",
              "      <th></th>\n",
              "      <th>Produto</th>\n",
              "      <th>Categoria do Produto</th>\n",
              "      <th>Preço</th>\n",
              "      <th>Frete</th>\n",
              "      <th>Data da Compra</th>\n",
              "      <th>Vendedor</th>\n",
              "      <th>Local da compra</th>\n",
              "      <th>Avaliação da compra</th>\n",
              "      <th>Tipo de pagamento</th>\n",
              "      <th>Quantidade de parcelas</th>\n",
              "      <th>lat</th>\n",
              "      <th>lon</th>\n",
              "    </tr>\n",
              "  </thead>\n",
              "  <tbody>\n",
              "    <tr>\n",
              "      <th>0</th>\n",
              "      <td>Assistente virtual</td>\n",
              "      <td>eletronicos</td>\n",
              "      <td>219.08</td>\n",
              "      <td>9.249790</td>\n",
              "      <td>16/01/2021</td>\n",
              "      <td>Pedro Gomes</td>\n",
              "      <td>SP</td>\n",
              "      <td>4</td>\n",
              "      <td>cartao_credito</td>\n",
              "      <td>8</td>\n",
              "      <td>-22.19</td>\n",
              "      <td>-48.79</td>\n",
              "    </tr>\n",
              "    <tr>\n",
              "      <th>1</th>\n",
              "      <td>Mesa de jantar</td>\n",
              "      <td>moveis</td>\n",
              "      <td>256.35</td>\n",
              "      <td>11.234305</td>\n",
              "      <td>18/05/2022</td>\n",
              "      <td>Beatriz Moraes</td>\n",
              "      <td>RJ</td>\n",
              "      <td>1</td>\n",
              "      <td>cartao_credito</td>\n",
              "      <td>4</td>\n",
              "      <td>-22.25</td>\n",
              "      <td>-42.66</td>\n",
              "    </tr>\n",
              "    <tr>\n",
              "      <th>2</th>\n",
              "      <td>Jogo de tabuleiro</td>\n",
              "      <td>brinquedos</td>\n",
              "      <td>279.51</td>\n",
              "      <td>21.262681</td>\n",
              "      <td>15/03/2021</td>\n",
              "      <td>João Souza</td>\n",
              "      <td>DF</td>\n",
              "      <td>1</td>\n",
              "      <td>cartao_credito</td>\n",
              "      <td>1</td>\n",
              "      <td>-15.83</td>\n",
              "      <td>-47.86</td>\n",
              "    </tr>\n",
              "    <tr>\n",
              "      <th>3</th>\n",
              "      <td>Micro-ondas</td>\n",
              "      <td>eletrodomesticos</td>\n",
              "      <td>1009.99</td>\n",
              "      <td>54.667344</td>\n",
              "      <td>03/05/2022</td>\n",
              "      <td>João Souza</td>\n",
              "      <td>RS</td>\n",
              "      <td>4</td>\n",
              "      <td>boleto</td>\n",
              "      <td>1</td>\n",
              "      <td>-30.17</td>\n",
              "      <td>-53.50</td>\n",
              "    </tr>\n",
              "    <tr>\n",
              "      <th>4</th>\n",
              "      <td>Cadeira de escritório</td>\n",
              "      <td>moveis</td>\n",
              "      <td>446.99</td>\n",
              "      <td>26.964689</td>\n",
              "      <td>07/11/2020</td>\n",
              "      <td>Larissa Alves</td>\n",
              "      <td>MG</td>\n",
              "      <td>5</td>\n",
              "      <td>boleto</td>\n",
              "      <td>1</td>\n",
              "      <td>-18.10</td>\n",
              "      <td>-44.38</td>\n",
              "    </tr>\n",
              "  </tbody>\n",
              "</table>\n",
              "</div>\n",
              "    <div class=\"colab-df-buttons\">\n",
              "\n",
              "  <div class=\"colab-df-container\">\n",
              "    <button class=\"colab-df-convert\" onclick=\"convertToInteractive('df-b7f4415e-8769-46a8-b85a-ea86557d8a5f')\"\n",
              "            title=\"Convert this dataframe to an interactive table.\"\n",
              "            style=\"display:none;\">\n",
              "\n",
              "  <svg xmlns=\"http://www.w3.org/2000/svg\" height=\"24px\" viewBox=\"0 -960 960 960\">\n",
              "    <path d=\"M120-120v-720h720v720H120Zm60-500h600v-160H180v160Zm220 220h160v-160H400v160Zm0 220h160v-160H400v160ZM180-400h160v-160H180v160Zm440 0h160v-160H620v160ZM180-180h160v-160H180v160Zm440 0h160v-160H620v160Z\"/>\n",
              "  </svg>\n",
              "    </button>\n",
              "\n",
              "  <style>\n",
              "    .colab-df-container {\n",
              "      display:flex;\n",
              "      gap: 12px;\n",
              "    }\n",
              "\n",
              "    .colab-df-convert {\n",
              "      background-color: #E8F0FE;\n",
              "      border: none;\n",
              "      border-radius: 50%;\n",
              "      cursor: pointer;\n",
              "      display: none;\n",
              "      fill: #1967D2;\n",
              "      height: 32px;\n",
              "      padding: 0 0 0 0;\n",
              "      width: 32px;\n",
              "    }\n",
              "\n",
              "    .colab-df-convert:hover {\n",
              "      background-color: #E2EBFA;\n",
              "      box-shadow: 0px 1px 2px rgba(60, 64, 67, 0.3), 0px 1px 3px 1px rgba(60, 64, 67, 0.15);\n",
              "      fill: #174EA6;\n",
              "    }\n",
              "\n",
              "    .colab-df-buttons div {\n",
              "      margin-bottom: 4px;\n",
              "    }\n",
              "\n",
              "    [theme=dark] .colab-df-convert {\n",
              "      background-color: #3B4455;\n",
              "      fill: #D2E3FC;\n",
              "    }\n",
              "\n",
              "    [theme=dark] .colab-df-convert:hover {\n",
              "      background-color: #434B5C;\n",
              "      box-shadow: 0px 1px 3px 1px rgba(0, 0, 0, 0.15);\n",
              "      filter: drop-shadow(0px 1px 2px rgba(0, 0, 0, 0.3));\n",
              "      fill: #FFFFFF;\n",
              "    }\n",
              "  </style>\n",
              "\n",
              "    <script>\n",
              "      const buttonEl =\n",
              "        document.querySelector('#df-b7f4415e-8769-46a8-b85a-ea86557d8a5f button.colab-df-convert');\n",
              "      buttonEl.style.display =\n",
              "        google.colab.kernel.accessAllowed ? 'block' : 'none';\n",
              "\n",
              "      async function convertToInteractive(key) {\n",
              "        const element = document.querySelector('#df-b7f4415e-8769-46a8-b85a-ea86557d8a5f');\n",
              "        const dataTable =\n",
              "          await google.colab.kernel.invokeFunction('convertToInteractive',\n",
              "                                                    [key], {});\n",
              "        if (!dataTable) return;\n",
              "\n",
              "        const docLinkHtml = 'Like what you see? Visit the ' +\n",
              "          '<a target=\"_blank\" href=https://colab.research.google.com/notebooks/data_table.ipynb>data table notebook</a>'\n",
              "          + ' to learn more about interactive tables.';\n",
              "        element.innerHTML = '';\n",
              "        dataTable['output_type'] = 'display_data';\n",
              "        await google.colab.output.renderOutput(dataTable, element);\n",
              "        const docLink = document.createElement('div');\n",
              "        docLink.innerHTML = docLinkHtml;\n",
              "        element.appendChild(docLink);\n",
              "      }\n",
              "    </script>\n",
              "  </div>\n",
              "\n",
              "\n",
              "<div id=\"df-713a75ae-b677-4d23-aedb-178693d4df7a\">\n",
              "  <button class=\"colab-df-quickchart\" onclick=\"quickchart('df-713a75ae-b677-4d23-aedb-178693d4df7a')\"\n",
              "            title=\"Suggest charts\"\n",
              "            style=\"display:none;\">\n",
              "\n",
              "<svg xmlns=\"http://www.w3.org/2000/svg\" height=\"24px\"viewBox=\"0 0 24 24\"\n",
              "     width=\"24px\">\n",
              "    <g>\n",
              "        <path d=\"M19 3H5c-1.1 0-2 .9-2 2v14c0 1.1.9 2 2 2h14c1.1 0 2-.9 2-2V5c0-1.1-.9-2-2-2zM9 17H7v-7h2v7zm4 0h-2V7h2v10zm4 0h-2v-4h2v4z\"/>\n",
              "    </g>\n",
              "</svg>\n",
              "  </button>\n",
              "\n",
              "<style>\n",
              "  .colab-df-quickchart {\n",
              "      --bg-color: #E8F0FE;\n",
              "      --fill-color: #1967D2;\n",
              "      --hover-bg-color: #E2EBFA;\n",
              "      --hover-fill-color: #174EA6;\n",
              "      --disabled-fill-color: #AAA;\n",
              "      --disabled-bg-color: #DDD;\n",
              "  }\n",
              "\n",
              "  [theme=dark] .colab-df-quickchart {\n",
              "      --bg-color: #3B4455;\n",
              "      --fill-color: #D2E3FC;\n",
              "      --hover-bg-color: #434B5C;\n",
              "      --hover-fill-color: #FFFFFF;\n",
              "      --disabled-bg-color: #3B4455;\n",
              "      --disabled-fill-color: #666;\n",
              "  }\n",
              "\n",
              "  .colab-df-quickchart {\n",
              "    background-color: var(--bg-color);\n",
              "    border: none;\n",
              "    border-radius: 50%;\n",
              "    cursor: pointer;\n",
              "    display: none;\n",
              "    fill: var(--fill-color);\n",
              "    height: 32px;\n",
              "    padding: 0;\n",
              "    width: 32px;\n",
              "  }\n",
              "\n",
              "  .colab-df-quickchart:hover {\n",
              "    background-color: var(--hover-bg-color);\n",
              "    box-shadow: 0 1px 2px rgba(60, 64, 67, 0.3), 0 1px 3px 1px rgba(60, 64, 67, 0.15);\n",
              "    fill: var(--button-hover-fill-color);\n",
              "  }\n",
              "\n",
              "  .colab-df-quickchart-complete:disabled,\n",
              "  .colab-df-quickchart-complete:disabled:hover {\n",
              "    background-color: var(--disabled-bg-color);\n",
              "    fill: var(--disabled-fill-color);\n",
              "    box-shadow: none;\n",
              "  }\n",
              "\n",
              "  .colab-df-spinner {\n",
              "    border: 2px solid var(--fill-color);\n",
              "    border-color: transparent;\n",
              "    border-bottom-color: var(--fill-color);\n",
              "    animation:\n",
              "      spin 1s steps(1) infinite;\n",
              "  }\n",
              "\n",
              "  @keyframes spin {\n",
              "    0% {\n",
              "      border-color: transparent;\n",
              "      border-bottom-color: var(--fill-color);\n",
              "      border-left-color: var(--fill-color);\n",
              "    }\n",
              "    20% {\n",
              "      border-color: transparent;\n",
              "      border-left-color: var(--fill-color);\n",
              "      border-top-color: var(--fill-color);\n",
              "    }\n",
              "    30% {\n",
              "      border-color: transparent;\n",
              "      border-left-color: var(--fill-color);\n",
              "      border-top-color: var(--fill-color);\n",
              "      border-right-color: var(--fill-color);\n",
              "    }\n",
              "    40% {\n",
              "      border-color: transparent;\n",
              "      border-right-color: var(--fill-color);\n",
              "      border-top-color: var(--fill-color);\n",
              "    }\n",
              "    60% {\n",
              "      border-color: transparent;\n",
              "      border-right-color: var(--fill-color);\n",
              "    }\n",
              "    80% {\n",
              "      border-color: transparent;\n",
              "      border-right-color: var(--fill-color);\n",
              "      border-bottom-color: var(--fill-color);\n",
              "    }\n",
              "    90% {\n",
              "      border-color: transparent;\n",
              "      border-bottom-color: var(--fill-color);\n",
              "    }\n",
              "  }\n",
              "</style>\n",
              "\n",
              "  <script>\n",
              "    async function quickchart(key) {\n",
              "      const quickchartButtonEl =\n",
              "        document.querySelector('#' + key + ' button');\n",
              "      quickchartButtonEl.disabled = true;  // To prevent multiple clicks.\n",
              "      quickchartButtonEl.classList.add('colab-df-spinner');\n",
              "      try {\n",
              "        const charts = await google.colab.kernel.invokeFunction(\n",
              "            'suggestCharts', [key], {});\n",
              "      } catch (error) {\n",
              "        console.error('Error during call to suggestCharts:', error);\n",
              "      }\n",
              "      quickchartButtonEl.classList.remove('colab-df-spinner');\n",
              "      quickchartButtonEl.classList.add('colab-df-quickchart-complete');\n",
              "    }\n",
              "    (() => {\n",
              "      let quickchartButtonEl =\n",
              "        document.querySelector('#df-713a75ae-b677-4d23-aedb-178693d4df7a button');\n",
              "      quickchartButtonEl.style.display =\n",
              "        google.colab.kernel.accessAllowed ? 'block' : 'none';\n",
              "    })();\n",
              "  </script>\n",
              "</div>\n",
              "\n",
              "    </div>\n",
              "  </div>\n"
            ],
            "application/vnd.google.colaboratory.intrinsic+json": {
              "type": "dataframe",
              "variable_name": "loja",
              "summary": "{\n  \"name\": \"loja\",\n  \"rows\": 2359,\n  \"fields\": [\n    {\n      \"column\": \"Produto\",\n      \"properties\": {\n        \"dtype\": \"category\",\n        \"num_unique_values\": 51,\n        \"samples\": [\n          \"Viol\\u00e3o\",\n          \"Bola de basquete\",\n          \"Smartwatch\"\n        ],\n        \"semantic_type\": \"\",\n        \"description\": \"\"\n      }\n    },\n    {\n      \"column\": \"Categoria do Produto\",\n      \"properties\": {\n        \"dtype\": \"category\",\n        \"num_unique_values\": 8,\n        \"samples\": [\n          \"moveis\",\n          \"esporte e lazer\",\n          \"eletronicos\"\n        ],\n        \"semantic_type\": \"\",\n        \"description\": \"\"\n      }\n    },\n    {\n      \"column\": \"Pre\\u00e7o\",\n      \"properties\": {\n        \"dtype\": \"number\",\n        \"std\": 819.5827782539145,\n        \"min\": 10.07,\n        \"max\": 3969.38,\n        \"num_unique_values\": 2315,\n        \"samples\": [\n          446.11,\n          107.31,\n          65.86\n        ],\n        \"semantic_type\": \"\",\n        \"description\": \"\"\n      }\n    },\n    {\n      \"column\": \"Frete\",\n      \"properties\": {\n        \"dtype\": \"number\",\n        \"std\": 43.814183327408166,\n        \"min\": 0.0,\n        \"max\": 214.3770604781,\n        \"num_unique_values\": 2149,\n        \"samples\": [\n          83.815279607,\n          16.069664669,\n          14.0344876928\n        ],\n        \"semantic_type\": \"\",\n        \"description\": \"\"\n      }\n    },\n    {\n      \"column\": \"Data da Compra\",\n      \"properties\": {\n        \"dtype\": \"object\",\n        \"num_unique_values\": 1018,\n        \"samples\": [\n          \"15/09/2022\",\n          \"03/06/2020\",\n          \"06/11/2021\"\n        ],\n        \"semantic_type\": \"\",\n        \"description\": \"\"\n      }\n    },\n    {\n      \"column\": \"Vendedor\",\n      \"properties\": {\n        \"dtype\": \"category\",\n        \"num_unique_values\": 14,\n        \"samples\": [\n          \"Juliana Costa\",\n          \"Mariana Ferreira\",\n          \"Pedro Gomes\"\n        ],\n        \"semantic_type\": \"\",\n        \"description\": \"\"\n      }\n    },\n    {\n      \"column\": \"Local da compra\",\n      \"properties\": {\n        \"dtype\": \"category\",\n        \"num_unique_values\": 26,\n        \"samples\": [\n          \"TO\",\n          \"RN\",\n          \"SP\"\n        ],\n        \"semantic_type\": \"\",\n        \"description\": \"\"\n      }\n    },\n    {\n      \"column\": \"Avalia\\u00e7\\u00e3o da compra\",\n      \"properties\": {\n        \"dtype\": \"number\",\n        \"std\": 1,\n        \"min\": 1,\n        \"max\": 5,\n        \"num_unique_values\": 5,\n        \"samples\": [\n          1,\n          2,\n          5\n        ],\n        \"semantic_type\": \"\",\n        \"description\": \"\"\n      }\n    },\n    {\n      \"column\": \"Tipo de pagamento\",\n      \"properties\": {\n        \"dtype\": \"category\",\n        \"num_unique_values\": 4,\n        \"samples\": [\n          \"boleto\",\n          \"cartao_debito\",\n          \"cartao_credito\"\n        ],\n        \"semantic_type\": \"\",\n        \"description\": \"\"\n      }\n    },\n    {\n      \"column\": \"Quantidade de parcelas\",\n      \"properties\": {\n        \"dtype\": \"number\",\n        \"std\": 2,\n        \"min\": 1,\n        \"max\": 24,\n        \"num_unique_values\": 15,\n        \"samples\": [\n          7,\n          14,\n          8\n        ],\n        \"semantic_type\": \"\",\n        \"description\": \"\"\n      }\n    },\n    {\n      \"column\": \"lat\",\n      \"properties\": {\n        \"dtype\": \"number\",\n        \"std\": 5.372399916530833,\n        \"min\": -30.17,\n        \"max\": 1.41,\n        \"num_unique_values\": 26,\n        \"samples\": [\n          -9.46,\n          -5.81,\n          -22.19\n        ],\n        \"semantic_type\": \"\",\n        \"description\": \"\"\n      }\n    },\n    {\n      \"column\": \"lon\",\n      \"properties\": {\n        \"dtype\": \"number\",\n        \"std\": 4.183180020544179,\n        \"min\": -70.55,\n        \"max\": -36.59,\n        \"num_unique_values\": 26,\n        \"samples\": [\n          -48.26,\n          -36.59,\n          -48.79\n        ],\n        \"semantic_type\": \"\",\n        \"description\": \"\"\n      }\n    }\n  ]\n}"
            }
          },
          "metadata": {},
          "execution_count": 25
        }
      ],
      "source": [
        "import pandas as pd\n",
        "\n",
        "url = \"https://raw.githubusercontent.com/alura-es-cursos/challenge1-data-science/refs/heads/main/base-de-dados-challenge-1/loja_1.csv\"\n",
        "url2 = \"https://raw.githubusercontent.com/alura-es-cursos/challenge1-data-science/refs/heads/main/base-de-dados-challenge-1/loja_2.csv\"\n",
        "url3 = \"https://raw.githubusercontent.com/alura-es-cursos/challenge1-data-science/refs/heads/main/base-de-dados-challenge-1/loja_3.csv\"\n",
        "url4 = \"https://raw.githubusercontent.com/alura-es-cursos/challenge1-data-science/refs/heads/main/base-de-dados-challenge-1/loja_4.csv\"\n",
        "\n",
        "loja = pd.read_csv(url)\n",
        "loja2 = pd.read_csv(url2)\n",
        "loja3 = pd.read_csv(url3)\n",
        "loja4 = pd.read_csv(url4)\n",
        "\n",
        "loja.head()"
      ]
    },
    {
      "cell_type": "code",
      "source": [
        "print(loja.columns)\n",
        "print(loja2.columns)\n",
        "print(loja3.columns)\n",
        "print(loja4.columns)"
      ],
      "metadata": {
        "id": "w7QT0r-zlMNE"
      },
      "execution_count": null,
      "outputs": []
    },
    {
      "cell_type": "markdown",
      "source": [
        "#1. Análise do faturamento\n"
      ],
      "metadata": {
        "id": "X62IW3KFUIYm"
      }
    },
    {
      "cell_type": "code",
      "source": [
        "def calcular_faturamento(df):\n",
        "    return df['Preço'].sum()\n",
        "\n",
        "print(f\"Faturamento Loja 1: R$ {calcular_faturamento(loja):.2f}\")\n",
        "print(f\"Faturamento Loja 2: R$ {calcular_faturamento(loja2):.2f}\")\n",
        "print(f\"Faturamento Loja 3: R$ {calcular_faturamento(loja3):.2f}\")\n",
        "print(f\"Faturamento Loja 4: R$ {calcular_faturamento(loja4):.2f}\")\n"
      ],
      "metadata": {
        "id": "xykobSftV64I",
        "colab": {
          "base_uri": "https://localhost:8080/"
        },
        "outputId": "fbc5f587-09c2-4244-dd7c-65355d20c7de"
      },
      "execution_count": 26,
      "outputs": [
        {
          "output_type": "stream",
          "name": "stdout",
          "text": [
            "Faturamento Loja 1: R$ 1534509.12\n",
            "Faturamento Loja 2: R$ 1488459.06\n",
            "Faturamento Loja 3: R$ 1464025.03\n",
            "Faturamento Loja 4: R$ 1384497.58\n"
          ]
        }
      ]
    },
    {
      "cell_type": "markdown",
      "source": [
        "# 2. Vendas por Categoria\n"
      ],
      "metadata": {
        "id": "2V_vcAPzWZmR"
      }
    },
    {
      "cell_type": "code",
      "source": [
        "def vendas_por_categoria(df):\n",
        "    return df['Categoria do Produto'].value_counts()\n",
        "\n",
        "\n",
        "print(\"Loja 1:\\n\", vendas_por_categoria(loja))\n",
        "print(\"\\nLoja 2:\\n\", vendas_por_categoria(loja2))\n",
        "print(\"\\nLoja 3:\\n\", vendas_por_categoria(loja3))\n",
        "print(\"\\nLoja 4:\\n\", vendas_por_categoria(loja4))\n"
      ],
      "metadata": {
        "id": "A34YupIuYhfF"
      },
      "execution_count": null,
      "outputs": []
    },
    {
      "cell_type": "markdown",
      "source": [
        "# 3. Média de Avaliação das Lojas"
      ],
      "metadata": {
        "id": "Rq6tU_xSY3jk"
      }
    },
    {
      "cell_type": "code",
      "source": [
        "def avaliacao_media(df):\n",
        "    return df['Avaliação da compra'].mean()\n",
        "\n",
        "print(f\"Avaliação média - Loja 1: {avaliacao_media(loja):.2f}\")\n",
        "print(f\"Avaliação média - Loja 2: {avaliacao_media(loja2):.2f}\")\n",
        "print(f\"Avaliação média - Loja 3: {avaliacao_media(loja3):.2f}\")\n",
        "print(f\"Avaliação média - Loja 4: {avaliacao_media(loja4):.2f}\")"
      ],
      "metadata": {
        "id": "bh3jjjJwY5MU",
        "colab": {
          "base_uri": "https://localhost:8080/"
        },
        "outputId": "a0e4606d-5e56-4d51-cf55-8a90405aff71"
      },
      "execution_count": 27,
      "outputs": [
        {
          "output_type": "stream",
          "name": "stdout",
          "text": [
            "Avaliação média - Loja 1: 3.98\n",
            "Avaliação média - Loja 2: 4.04\n",
            "Avaliação média - Loja 3: 4.05\n",
            "Avaliação média - Loja 4: 4.00\n"
          ]
        }
      ]
    },
    {
      "cell_type": "markdown",
      "source": [
        "# 4. Produtos Mais e Menos Vendidos"
      ],
      "metadata": {
        "id": "DmNp1KPBZCm-"
      }
    },
    {
      "cell_type": "code",
      "source": [
        "def mais_vendido(df):\n",
        "   return df.groupby('Produto').size().idxmax()\n",
        "\n",
        "print(f\"Mais vendido - Loja 1: {mais_vendido(loja)}\")\n",
        "print(f\"Mais vendido - Loja 2: {mais_vendido(loja2)}\")\n",
        "print(f\"Mais vendido - Loja 3: {mais_vendido(loja3)}\")\n",
        "print(f\"Mais vendido - Loja 4: {mais_vendido(loja4)}\")"
      ],
      "metadata": {
        "id": "qoyjqijQZHfF",
        "colab": {
          "base_uri": "https://localhost:8080/"
        },
        "outputId": "8b0bd5f3-0489-4259-94b9-445456cf0015"
      },
      "execution_count": 28,
      "outputs": [
        {
          "output_type": "stream",
          "name": "stdout",
          "text": [
            "Mais vendido - Loja 1: Guarda roupas\n",
            "Mais vendido - Loja 2: Iniciando em programação\n",
            "Mais vendido - Loja 3: Kit banquetas\n",
            "Mais vendido - Loja 4: Cama box\n"
          ]
        }
      ]
    },
    {
      "cell_type": "code",
      "source": [
        "def menos_vendido(df):\n",
        "    return df.groupby('Produto').size().idxmin()\n",
        "\n",
        "print(f\"Menos vendido - Loja 1: {menos_vendido(loja)}\")\n",
        "print(f\"Menos vendido - Loja 2: {menos_vendido(loja2)}\")\n",
        "print(f\"Menos vendido - Loja 3: {menos_vendido(loja3)}\")\n",
        "print(f\"Menos vendido - Loja 4: {menos_vendido(loja4)}\")"
      ],
      "metadata": {
        "colab": {
          "base_uri": "https://localhost:8080/"
        },
        "id": "K_8uQMOAjjd7",
        "outputId": "892c7a85-dd2f-430f-ece8-5be833393b69"
      },
      "execution_count": 29,
      "outputs": [
        {
          "output_type": "stream",
          "name": "stdout",
          "text": [
            "Menos vendido - Loja 1: Celular ABXY\n",
            "Menos vendido - Loja 2: Jogo de tabuleiro\n",
            "Menos vendido - Loja 3: Blocos de montar\n",
            "Menos vendido - Loja 4: Guitarra\n"
          ]
        }
      ]
    },
    {
      "cell_type": "markdown",
      "source": [
        "# 5. Frete Médio por Loja\n"
      ],
      "metadata": {
        "id": "Fl0cGi3bZKqU"
      }
    },
    {
      "cell_type": "code",
      "source": [
        "def frete_medio(df):\n",
        "    return df['Frete'].mean()\n",
        "\n",
        "print(f\"Frete médio - Loja 1: R$ {frete_medio(loja):.2f}\")\n",
        "print(f\"Frete médio - Loja 2: R$ {frete_medio(loja2):.2f}\")\n",
        "print(f\"Frete médio - Loja 3: R$ {frete_medio(loja3):.2f}\")\n",
        "print(f\"Frete médio - Loja 4: R$ {frete_medio(loja4):.2f}\")"
      ],
      "metadata": {
        "id": "S2JeaCykZNy9",
        "colab": {
          "base_uri": "https://localhost:8080/"
        },
        "outputId": "d8ee607b-8a44-44b5-e1da-969d4023a219"
      },
      "execution_count": 30,
      "outputs": [
        {
          "output_type": "stream",
          "name": "stdout",
          "text": [
            "Frete médio - Loja 1: R$ 34.69\n",
            "Frete médio - Loja 2: R$ 33.62\n",
            "Frete médio - Loja 3: R$ 33.07\n",
            "Frete médio - Loja 4: R$ 31.28\n"
          ]
        }
      ]
    },
    {
      "cell_type": "markdown",
      "source": [
        "# **Gráficos**"
      ],
      "metadata": {
        "id": "R2QQVAoS-b9S"
      }
    },
    {
      "cell_type": "markdown",
      "source": [
        "**Gráfico de barras: faturamento**"
      ],
      "metadata": {
        "id": "Q8cdR40Z--hx"
      }
    },
    {
      "cell_type": "code",
      "source": [
        "import matplotlib.pyplot as plt\n",
        "\n",
        "faturamento_lojas = [1534509.12, 1488459.06, 1464025.03, 1384497.58]\n",
        "nomes_lojas = ['Loja 1', 'Loja 2', 'Loja 3', 'Loja 4']\n",
        "\n",
        "plt.bar(nomes_lojas, faturamento_lojas, color='green')\n",
        "plt.title('Faturamento por Loja')\n",
        "plt.xlabel('Lojas')\n",
        "plt.ylabel('Faturamento (R$)')\n",
        "plt.show()\n"
      ],
      "metadata": {
        "colab": {
          "base_uri": "https://localhost:8080/",
          "height": 472
        },
        "id": "cBWvLtMU-f-L",
        "outputId": "ddaa34ee-b22c-48a6-9595-be039a3839af"
      },
      "execution_count": 31,
      "outputs": [
        {
          "output_type": "display_data",
          "data": {
            "text/plain": [
              "<Figure size 640x480 with 1 Axes>"
            ],
            "image/png": "[encoded data removed]"
          },
          "metadata": {}
        }
      ]
    },
    {
      "cell_type": "markdown",
      "source": [
        "**Gráfico de barras empilhadas: vendas por categoria**"
      ],
      "metadata": {
        "id": "et_qnefzCzNH"
      }
    },
    {
      "cell_type": "code",
      "source": [
        "import pandas as pd\n",
        "\n",
        "dados = {\n",
        "    'Categoria': ['móveis', 'eletrônicos', 'brinquedos', 'eletrodomésticos',\n",
        "                  'esporte e lazer', 'instrumentos musicais', 'livros', 'utilidades domésticas'],\n",
        "    'Loja 1': [465, 448, 324, 312, 284, 182, 173, 171],\n",
        "    'Loja 2': [442, 422, 313, 305, 275, 224, 197, 181],\n",
        "    'Loja 3': [499, 451, 315, 278, 277, 177, 185, 177],\n",
        "    'Loja 4': [480, 451, 338, 254, 277, 170, 187, 201],\n",
        "}\n",
        "\n",
        "df = pd.DataFrame(dados)\n",
        "df.set_index('Categoria', inplace=True)\n",
        "df.T.plot(kind='bar', stacked=True, figsize=(10,6))\n",
        "plt.title('Vendas por Categoria em Cada Loja')\n",
        "plt.xlabel('Lojas')\n",
        "plt.ylabel('Quantidade de Vendas')\n",
        "plt.legend(title='Categoria', bbox_to_anchor=(1.05, 1))\n",
        "plt.tight_layout()\n",
        "plt.show()\n"
      ],
      "metadata": {
        "colab": {
          "base_uri": "https://localhost:8080/",
          "height": 607
        },
        "id": "NVIYUAiA-mhO",
        "outputId": "d9c91583-8534-4c37-f391-f9f46b5dfab1"
      },
      "execution_count": 32,
      "outputs": [
        {
          "output_type": "display_data",
          "data": {
            "text/plain": [
              "<Figure size 1000x600 with 1 Axes>"
            ],
            "image/png": "[encoded data removed]"
          },
          "metadata": {}
        }
      ]
    },
    {
      "cell_type": "markdown",
      "source": [
        "**Gráfico de linhas: comparação avaliação x frete**"
      ],
      "metadata": {
        "id": "B765ohPwEW5n"
      }
    },
    {
      "cell_type": "code",
      "source": [
        "avaliacoes = [3.98, 4.04, 4.05, 4.00]\n",
        "fretes = [34.69, 33.62, 33.07, 31.28]\n",
        "lojas = ['Loja 1', 'Loja 2', 'Loja 3', 'Loja 4']\n",
        "\n",
        "plt.plot(lojas, avaliacoes, label='Avaliação Média', marker='o', color='blue')\n",
        "plt.plot(lojas, fretes, label='Frete Médio (R$)', marker='s', color='red')\n",
        "plt.title('Avaliação x Frete por Loja')\n",
        "plt.xlabel('Lojas')\n",
        "plt.ylabel('Valores')\n",
        "plt.legend()\n",
        "plt.grid(True)\n",
        "plt.show()\n"
      ],
      "metadata": {
        "colab": {
          "base_uri": "https://localhost:8080/",
          "height": 472
        },
        "id": "XQV8caf_-mYn",
        "outputId": "6c3f6c1f-b605-4c45-c18a-1272e8614f0a"
      },
      "execution_count": 33,
      "outputs": [
        {
          "output_type": "display_data",
          "data": {
            "text/plain": [
              "<Figure size 640x480 with 1 Axes>"
            ],
            "image/png": "[encoded data removed]"
          },
          "metadata": {}
        }
      ]
    },
    {
      "cell_type": "markdown",
      "source": [
        "# Relatório Final – Análise das Lojas do Senhor João\n",
        "\n",
        "## Introdução\n",
        "\n",
        "O objetivo deste relatório é avaliar o desempenho de quatro lojas pertencentes ao Senhor João, com base em dados de vendas, avaliações de clientes e custos de frete. A partir dessas informações, será possível indicar qual loja apresenta o **pior desempenho** geral e, portanto, deve ser fechada.\n",
        "\n",
        "As análises foram feitas com base nos seguintes critérios:\n",
        "- Faturamento total;\n",
        "- Categorias de produtos mais e menos vendidas;\n",
        "- Avaliações dos clientes;\n",
        "- Produtos mais e menos vendidos;\n",
        "- Frete médio.\n",
        "\n",
        "---\n",
        "\n",
        "## Análise dos Dados\n",
        "\n",
        "### 1. Faturamento Total\n",
        "\n",
        "O faturamento representa quanto cada loja arrecadou com as vendas. Os valores foram:\n",
        "\n",
        "- **Loja 1:** R$ 1.534.509,12  \n",
        "- **Loja 2:** R$ 1.488.459,06  \n",
        "- **Loja 3:** R$ 1.464.025,03  \n",
        "- **Loja 4:** R$ 1.384.497,58  \n",
        "\n",
        "A **Loja 4** teve o menor faturamento entre as lojas.\n",
        "\n",
        "---\n",
        "\n",
        "### 2. Categorias mais e menos vendidas\n",
        "\n",
        "Em todas as lojas, as categorias **móveis** e **eletrônicos** estão entre as mais vendidas. No entanto, a Loja 4 teve um desempenho mais fraco em algumas dessas categorias, como móveis e eletrônicos, que são importantes para o faturamento.\n",
        "\n",
        "---\n",
        "\n",
        "### 3. Avaliação Média das Lojas\n",
        "\n",
        "A média das avaliações dos clientes foi a seguinte:\n",
        "\n",
        "- **Loja 1:** 3,98  \n",
        "- **Loja 2:** 4,04  \n",
        "- **Loja 3:** 4,05  \n",
        "- **Loja 4:** 4,00  \n",
        "\n",
        "A **Loja 1**, apesar de ter um faturamento maior, obteve a pior avaliação entre as lojas, com 3,98, o que sugere que os clientes não estão tão satisfeitos com a loja.\n",
        "\n",
        "---\n",
        "\n",
        "### 4. Produtos mais e menos vendidos\n",
        "\n",
        "**Mais vendidos:**\n",
        "- **Loja 1**: Guarda roupas  \n",
        "- **Loja 2**: Iniciando em programação  \n",
        "- **Loja 3**: Kit banquetas  \n",
        "- **Loja 4**: Cama box  \n",
        "\n",
        "**Menos vendidos:**\n",
        "- **Loja 1**: Celular ABXY  \n",
        "- **Loja 2**: Jogo de tabuleiro  \n",
        "- **Loja 3**: Blocos de montar  \n",
        "- **Loja 4**: Guitarra  \n",
        "\n",
        "Observa-se que a **Loja 4** tem o pior desempenho no que diz respeito aos produtos vendidos, tanto no ranking de mais vendidos quanto de menos vendidos.\n",
        "\n",
        "---\n",
        "\n",
        "### 5. Frete Médio\n",
        "\n",
        "O custo médio do frete para cada loja foi:\n",
        "\n",
        "- **Loja 1:** R$ 34,69  \n",
        "- **Loja 2:** R$ 33,62  \n",
        "- **Loja 3:** R$ 33,07  \n",
        "- **Loja 4:** R$ 31,28  \n",
        "\n",
        "Embora a **Loja 4** tenha o menor valor de frete, o seu desempenho geral em vendas e avaliações é inferior, apesar do custo de frete mais baixo, o custo-benefício não é favorável.\n",
        "\n",
        "---\n",
        "\n",
        "## Conclusão\n",
        "\n",
        "Com base nos dados analisados, a **Loja 4** apresenta o **pior desempenho** entre as quatro. Apesar de ter o frete mais barato, ela obteve o menor faturamento, o pior desempenho em vendas de produtos e a avaliação média dos clientes não é competitiva.\n",
        "\n",
        "A **Loja 1**, embora tenha um faturamento maior, tem um desempenho semelhante em termos de produtos vendidos e avaliações, o que a coloca em uma posição intermediária.\n",
        "\n",
        "Portanto, a recomendação é que o Senhor João **feche a Loja 4**, devido ao seu desempenho financeiro e de vendas insatisfatório, mesmo com o custo de frete mais baixo.\n"
      ],
      "metadata": {
        "id": "vvUi0tT9IY2r"
      }
    }
  ]
}