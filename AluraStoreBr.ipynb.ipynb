{
  "nbformat": 4,
  "nbformat_minor": 0,
  "metadata": {
    "colab": {
      "provenance": []
    },
    "kernelspec": {
      "name": "python3",
      "display_name": "Python 3"
    },
    "language_info": {
      "name": "python"
    }
  },
  "cells": [
    {
      "cell_type": "markdown",
      "source": [
        "### Importação dos dados\n",
        "\n"
      ],
      "metadata": {
        "id": "RhEdWd9YUR6H"
      }
    },
    {
      "cell_type": "code",
      "execution_count": null,
      "metadata": {
        "id": "T3EvaeQ_INIL"
      },
      "outputs": [],
      "source": [
        "import pandas as pd\n",
        "\n",
        "url = \"https://raw.githubusercontent.com/alura-es-cursos/challenge1-data-science/refs/heads/main/base-de-dados-challenge-1/loja_1.csv\"\n",
        "url2 = \"https://raw.githubusercontent.com/alura-es-cursos/challenge1-data-science/refs/heads/main/base-de-dados-challenge-1/loja_2.csv\"\n",
        "url3 = \"https://raw.githubusercontent.com/alura-es-cursos/challenge1-data-science/refs/heads/main/base-de-dados-challenge-1/loja_3.csv\"\n",
        "url4 = \"https://raw.githubusercontent.com/alura-es-cursos/challenge1-data-science/refs/heads/main/base-de-dados-challenge-1/loja_4.csv\"\n",
        "\n",
        "loja = pd.read_csv(url)\n",
        "loja2 = pd.read_csv(url2)\n",
        "loja3 = pd.read_csv(url3)\n",
        "loja4 = pd.read_csv(url4)\n",
        "\n",
        "loja.head()"
      ]
    },
    {
      "cell_type": "code",
      "source": [
        "print(loja.columns)\n",
        "print(loja2.columns)\n",
        "print(loja3.columns)\n",
        "print(loja4.columns)"
      ],
      "metadata": {
        "id": "w7QT0r-zlMNE"
      },
      "execution_count": null,
      "outputs": []
    },
    {
      "cell_type": "markdown",
      "source": [
        "#1. Análise do faturamento\n"
      ],
      "metadata": {
        "id": "X62IW3KFUIYm"
      }
    },
    {
      "cell_type": "code",
      "source": [
        "def calcular_faturamento(df):\n",
        "    return df['Preço'].sum()\n",
        "\n",
        "print(f\"Faturamento Loja 1: R$ {calcular_faturamento(loja):.2f}\")\n",
        "print(f\"Faturamento Loja 2: R$ {calcular_faturamento(loja2):.2f}\")\n",
        "print(f\"Faturamento Loja 3: R$ {calcular_faturamento(loja3):.2f}\")\n",
        "print(f\"Faturamento Loja 4: R$ {calcular_faturamento(loja4):.2f}\")\n"
      ],
      "metadata": {
        "id": "xykobSftV64I"
      },
      "execution_count": null,
      "outputs": []
    },
    {
      "cell_type": "markdown",
      "source": [
        "# 2. Vendas por Categoria\n"
      ],
      "metadata": {
        "id": "2V_vcAPzWZmR"
      }
    },
    {
      "cell_type": "code",
      "source": [
        "def vendas_por_categoria(df):\n",
        "    return df['Categoria do Produto'].value_counts()\n",
        "\n",
        "\n",
        "print(\"Loja 1:\\n\", vendas_por_categoria(loja))\n",
        "print(\"\\nLoja 2:\\n\", vendas_por_categoria(loja2))\n",
        "print(\"\\nLoja 3:\\n\", vendas_por_categoria(loja3))\n",
        "print(\"\\nLoja 4:\\n\", vendas_por_categoria(loja4))\n"
      ],
      "metadata": {
        "id": "A34YupIuYhfF"
      },
      "execution_count": null,
      "outputs": []
    },
    {
      "cell_type": "markdown",
      "source": [
        "# 3. Média de Avaliação das Lojas"
      ],
      "metadata": {
        "id": "Rq6tU_xSY3jk"
      }
    },
    {
      "cell_type": "code",
      "source": [
        "def avaliacao_media(df):\n",
        "    return df['Avaliação da compra'].mean()\n",
        "\n",
        "print(f\"Avaliação média - Loja 1: {avaliacao_media(loja):.2f}\")\n",
        "print(f\"Avaliação média - Loja 2: {avaliacao_media(loja2):.2f}\")\n",
        "print(f\"Avaliação média - Loja 3: {avaliacao_media(loja3):.2f}\")\n",
        "print(f\"Avaliação média - Loja 4: {avaliacao_media(loja4):.2f}\")"
      ],
      "metadata": {
        "id": "bh3jjjJwY5MU"
      },
      "execution_count": null,
      "outputs": []
    },
    {
      "cell_type": "markdown",
      "source": [
        "# 4. Produtos Mais e Menos Vendidos"
      ],
      "metadata": {
        "id": "DmNp1KPBZCm-"
      }
    },
    {
      "cell_type": "code",
      "source": [
        "def mais_vendido(df):\n",
        "   return df.groupby('Produto').size().idxmax()\n",
        "\n",
        "print(f\"Mais vendido - Loja 1: {mais_vendido(loja)}\")\n",
        "print(f\"Mais vendido - Loja 2: {mais_vendido(loja2)}\")\n",
        "print(f\"Mais vendido - Loja 3: {mais_vendido(loja3)}\")\n",
        "print(f\"Mais vendido - Loja 4: {mais_vendido(loja4)}\")"
      ],
      "metadata": {
        "id": "qoyjqijQZHfF"
      },
      "execution_count": null,
      "outputs": []
    },
    {
      "cell_type": "code",
      "source": [
        "def menos_vendido(df):\n",
        "    return df.groupby('Produto').size().idxmin()\n",
        "\n",
        "print(f\"Menos vendido - Loja 1: {menos_vendido(loja)}\")\n",
        "print(f\"Menos vendido - Loja 2: {menos_vendido(loja2)}\")\n",
        "print(f\"Menos vendido - Loja 3: {menos_vendido(loja3)}\")\n",
        "print(f\"Menos vendido - Loja 4: {menos_vendido(loja4)}\")"
      ],
      "metadata": {
        "id": "K_8uQMOAjjd7"
      },
      "execution_count": null,
      "outputs": []
    },
    {
      "cell_type": "markdown",
      "source": [
        "# 5. Frete Médio por Loja\n"
      ],
      "metadata": {
        "id": "Fl0cGi3bZKqU"
      }
    },
    {
      "cell_type": "code",
      "source": [
        "def frete_medio(df):\n",
        "    return df['Frete'].mean()\n",
        "\n",
        "print(f\"Frete médio - Loja 1: R$ {frete_medio(loja):.2f}\")\n",
        "print(f\"Frete médio - Loja 2: R$ {frete_medio(loja2):.2f}\")\n",
        "print(f\"Frete médio - Loja 3: R$ {frete_medio(loja3):.2f}\")\n",
        "print(f\"Frete médio - Loja 4: R$ {frete_medio(loja4):.2f}\")"
      ],
      "metadata": {
        "id": "S2JeaCykZNy9"
      },
      "execution_count": null,
      "outputs": []
    },
    {
      "cell_type": "markdown",
      "source": [
        "# **Gráficos**"
      ],
      "metadata": {
        "id": "R2QQVAoS-b9S"
      }
    },
    {
      "cell_type": "markdown",
      "source": [
        "**Gráfico de barras: faturamento**"
      ],
      "metadata": {
        "id": "Q8cdR40Z--hx"
      }
    },
    {
      "cell_type": "code",
      "source": [
        "import matplotlib.pyplot as plt\n",
        "\n",
        "faturamento_lojas = [1534509.12, 1488459.06, 1464025.03, 1384497.58]\n",
        "nomes_lojas = ['Loja 1', 'Loja 2', 'Loja 3', 'Loja 4']\n",
        "\n",
        "plt.bar(nomes_lojas, faturamento_lojas, color='green')\n",
        "plt.title('Faturamento por Loja')\n",
        "plt.xlabel('Lojas')\n",
        "plt.ylabel('Faturamento (R$)')\n",
        "plt.show()\n"
      ],
      "metadata": {
        "id": "cBWvLtMU-f-L"
      },
      "execution_count": null,
      "outputs": []
    },
    {
      "cell_type": "markdown",
      "source": [
        "**Gráfico de barras empilhadas: vendas por categoria**"
      ],
      "metadata": {
        "id": "et_qnefzCzNH"
      }
    },
    {
      "cell_type": "code",
      "source": [
        "import pandas as pd\n",
        "\n",
        "dados = {\n",
        "    'Categoria': ['móveis', 'eletrônicos', 'brinquedos', 'eletrodomésticos',\n",
        "                  'esporte e lazer', 'instrumentos musicais', 'livros', 'utilidades domésticas'],\n",
        "    'Loja 1': [465, 448, 324, 312, 284, 182, 173, 171],\n",
        "    'Loja 2': [442, 422, 313, 305, 275, 224, 197, 181],\n",
        "    'Loja 3': [499, 451, 315, 278, 277, 177, 185, 177],\n",
        "    'Loja 4': [480, 451, 338, 254, 277, 170, 187, 201],\n",
        "}\n",
        "\n",
        "df = pd.DataFrame(dados)\n",
        "df.set_index('Categoria', inplace=True)\n",
        "df.T.plot(kind='bar', stacked=True, figsize=(10,6))\n",
        "plt.title('Vendas por Categoria em Cada Loja')\n",
        "plt.xlabel('Lojas')\n",
        "plt.ylabel('Quantidade de Vendas')\n",
        "plt.legend(title='Categoria', bbox_to_anchor=(1.05, 1))\n",
        "plt.tight_layout()\n",
        "plt.show()\n"
      ],
      "metadata": {
        "id": "NVIYUAiA-mhO"
      },
      "execution_count": null,
      "outputs": []
    },
    {
      "cell_type": "markdown",
      "source": [
        "**Gráfico de linhas: comparação avaliação x frete**"
      ],
      "metadata": {
        "id": "B765ohPwEW5n"
      }
    },
    {
      "cell_type": "code",
      "source": [
        "avaliacoes = [3.98, 4.04, 4.05, 4.00]\n",
        "fretes = [34.69, 33.62, 33.07, 31.28]\n",
        "lojas = ['Loja 1', 'Loja 2', 'Loja 3', 'Loja 4']\n",
        "\n",
        "plt.plot(lojas, avaliacoes, label='Avaliação Média', marker='o', color='blue')\n",
        "plt.plot(lojas, fretes, label='Frete Médio (R$)', marker='s', color='red')\n",
        "plt.title('Avaliação x Frete por Loja')\n",
        "plt.xlabel('Lojas')\n",
        "plt.ylabel('Valores')\n",
        "plt.legend()\n",
        "plt.grid(True)\n",
        "plt.show()\n"
      ],
      "metadata": {
        "id": "XQV8caf_-mYn"
      },
      "execution_count": null,
      "outputs": []
    },
    {
      "cell_type": "markdown",
      "source": [
        "# Relatório Final – Análise das Lojas do Senhor João\n",
        "\n",
        "## Introdução\n",
        "\n",
        "O objetivo deste relatório é avaliar o desempenho de quatro lojas pertencentes ao Senhor João, com base em dados de vendas, avaliações de clientes e custos de frete. A partir dessas informações, será possível indicar qual loja apresenta o **pior desempenho** geral e, portanto, deve ser fechada.\n",
        "\n",
        "As análises foram feitas com base nos seguintes critérios:\n",
        "- Faturamento total;\n",
        "- Categorias de produtos mais e menos vendidas;\n",
        "- Avaliações dos clientes;\n",
        "- Produtos mais e menos vendidos;\n",
        "- Frete médio.\n",
        "\n",
        "---\n",
        "\n",
        "## Análise dos Dados\n",
        "\n",
        "### 1. Faturamento Total\n",
        "\n",
        "O faturamento representa quanto cada loja arrecadou com as vendas. Os valores foram:\n",
        "\n",
        "- **Loja 1:** R$ 1.534.509,12  \n",
        "- **Loja 2:** R$ 1.488.459,06  \n",
        "- **Loja 3:** R$ 1.464.025,03  \n",
        "- **Loja 4:** R$ 1.384.497,58  \n",
        "\n",
        "A **Loja 4** teve o menor faturamento entre as lojas.\n",
        "\n",
        "---\n",
        "\n",
        "### 2. Categorias mais e menos vendidas\n",
        "\n",
        "Em todas as lojas, as categorias **móveis** e **eletrônicos** estão entre as mais vendidas. No entanto, a Loja 4 teve um desempenho mais fraco em algumas dessas categorias, como móveis e eletrônicos, que são importantes para o faturamento.\n",
        "\n",
        "---\n",
        "\n",
        "### 3. Avaliação Média das Lojas\n",
        "\n",
        "A média das avaliações dos clientes foi a seguinte:\n",
        "\n",
        "- **Loja 1:** 3,98  \n",
        "- **Loja 2:** 4,04  \n",
        "- **Loja 3:** 4,05  \n",
        "- **Loja 4:** 4,00  \n",
        "\n",
        "A **Loja 1**, apesar de ter um faturamento maior, obteve a pior avaliação entre as lojas, com 3,98, o que sugere que os clientes não estão tão satisfeitos com a loja.\n",
        "\n",
        "---\n",
        "\n",
        "### 4. Produtos mais e menos vendidos\n",
        "\n",
        "**Mais vendidos:**\n",
        "- **Loja 1**: Guarda roupas  \n",
        "- **Loja 2**: Iniciando em programação  \n",
        "- **Loja 3**: Kit banquetas  \n",
        "- **Loja 4**: Cama box  \n",
        "\n",
        "**Menos vendidos:**\n",
        "- **Loja 1**: Celular ABXY  \n",
        "- **Loja 2**: Jogo de tabuleiro  \n",
        "- **Loja 3**: Blocos de montar  \n",
        "- **Loja 4**: Guitarra  \n",
        "\n",
        "Observa-se que a **Loja 4** tem o pior desempenho no que diz respeito aos produtos vendidos, tanto no ranking de mais vendidos quanto de menos vendidos.\n",
        "\n",
        "---\n",
        "\n",
        "### 5. Frete Médio\n",
        "\n",
        "O custo médio do frete para cada loja foi:\n",
        "\n",
        "- **Loja 1:** R$ 34,69  \n",
        "- **Loja 2:** R$ 33,62  \n",
        "- **Loja 3:** R$ 33,07  \n",
        "- **Loja 4:** R$ 31,28  \n",
        "\n",
        "Embora a **Loja 4** tenha o menor valor de frete, o seu desempenho geral em vendas e avaliações é inferior, apesar do custo de frete mais baixo, o custo-benefício não é favorável.\n",
        "\n",
        "---\n",
        "\n",
        "## Conclusão\n",
        "\n",
        "Com base nos dados analisados, a **Loja 4** apresenta o **pior desempenho** entre as quatro. Apesar de ter o frete mais barato, ela obteve o menor faturamento, o pior desempenho em vendas de produtos e a avaliação média dos clientes não é competitiva.\n",
        "\n",
        "A **Loja 1**, embora tenha um faturamento maior, tem um desempenho semelhante em termos de produtos vendidos e avaliações, o que a coloca em uma posição intermediária.\n",
        "\n",
        "Portanto, a recomendação é que o Senhor João **feche a Loja 4**, devido ao seu desempenho financeiro e de vendas insatisfatório, mesmo com o custo de frete mais baixo.\n"
      ],
      "metadata": {
        "id": "vvUi0tT9IY2r"
      }
    }
  ]
}